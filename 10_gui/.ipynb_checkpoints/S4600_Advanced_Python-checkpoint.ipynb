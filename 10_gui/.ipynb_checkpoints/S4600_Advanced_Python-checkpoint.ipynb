{
 "cells": [
  {
   "cell_type": "markdown",
   "metadata": {},
   "source": [
    "# Programmering for avancerede elever"
   ]
  },
  {
   "cell_type": "markdown",
   "metadata": {},
   "source": [
    "## 0. Introduktion\n",
    "\n",
    "Læs introduktionen meget omhyggeligt. Det tager kun 2 minutter.\n",
    "\n",
    "Du har arbejdet med S1- og S2-emnerne, og nu vil du gerne lære mere om programmering og Python?   \n",
    "Så er denne fil noget for dig. Her finder du en oversigt over yderligere materiale. Denne notebook har tre afsnit:  \n",
    "\n",
    "1. Hyppigt anvendte elementer og begreber i Python\n",
    "2. Avancerede koncepter for avancerede programmører\n",
    "3. Tips & Tricks\n",
    "\n",
    "Du finder i dette dokument ikke altid konkrete opgaver, som du skal løse, men typisk kun en overskrift, et lille kodeeksempel og nogle videre links.    \n",
    "De fleste af emnerne bygger ikke på hinanden.\n",
    "\n",
    "Hovedformålet med dette dokument er at du har hørt om de forskellige termer og koncepter og derfor er i stand til at læse mere om emnet, når du rent faktisk har brug for dem til et af dine projekter.\n",
    "\n",
    "Nogle foretrækker at se videoer, andre foretrækker at læse tekster for at lære noget. Derfor er der - så vidt muligt - både links til videoer og links til tekster for hvert emne.\n",
    "\n",
    "Hvis der er flere links til dokumentation eller vejledninger om et emne, behøver du ikke nødvendigvis at læse alle teksterne eller se alle videoer. Vælg et eller to links, der giver mest mening for dig. \n",
    "\n",
    "Som altid er du velkommen til at spørge din lærer, fx hvis du er i tvivl om en emnes betydning for dig eller når du går i stå på et tidspunkt.\n",
    "\n",
    "Kopier denne fil til din løsnings-repository, så du kan lege med kodeeksemplerne der."
   ]
  },
  {
   "cell_type": "markdown",
   "metadata": {},
   "source": [
    "## 1. Hyppigt anvendte elementer og begreber i Python"
   ]
  },
  {
   "cell_type": "markdown",
   "metadata": {},
   "source": [
    "### Comprehension"
   ]
  },
  {
   "cell_type": "markdown",
   "metadata": {},
   "source": [
    "En populær og elegant måde at definere en liste eller andre objekter på.   \n",
    "     \n",
    "- [Kort forklaring](https://www.w3schools.com/python/python_lists_comprehension.asp)   \n",
    "- [Video med forklaring](https://www.youtube.com/watch?v=3dt4OGnU5sM)\n",
    "- [Komplet forklaring](https://realpython.com/list-comprehension-python/)   \n",
    "- [God forklaring](https://towardsdatascience.com/a-guide-to-python-comprehensions-4d16af68c97e)\n",
    "\n",
    "Brug højst en time på at læse forklaringerne.\n",
    "\n",
    "Hvis du ikke husker hvad en dictionary/list/set er, så genopfrisk din viden her:\n",
    "- [Dictionary](https://www.w3schools.com/python/python_dictionaries.asp)\n",
    "- [List](https://www.w3schools.com/python/python_lists.asp)\n",
    "- [Set](https://www.w3schools.com/python/python_sets.asp)"
   ]
  },
  {
   "cell_type": "code",
   "execution_count": null,
   "metadata": {
    "is_executing": true
   },
   "outputs": [],
   "source": [
    "# Eksempel:\n",
    "# Kør programmet og leg med koden\n",
    "dictionary_comprehension = {i: i * i for i in range(10)}\n",
    "list_comprehension = [i * i for i in range(10)]\n",
    "set_comprehension = {i%3 for i in range(10)}\n",
    "generator_comprehension = (2 * i + 5 for i in range(10))  # generators are explained later in this document\n",
    "print(f'{dictionary_comprehension = }')\n",
    "print(f'{list_comprehension = }')\n",
    "print(f'{set_comprehension = }')\n",
    "print(f'{generator_comprehension = }')"
   ]
  },
  {
   "cell_type": "code",
   "execution_count": 61,
   "outputs": [],
   "source": [
    "# Opgave:\n",
    "# Skab denne liste med comprehension: [10, 15, 20, 25, 30, 35]\n",
    "# Skriv din kode her"
   ],
   "metadata": {
    "collapsed": false,
    "ExecuteTime": {
     "end_time": "2023-10-25T12:43:35.133609800Z",
     "start_time": "2023-10-25T12:43:34.863214Z"
    }
   }
  },
  {
   "cell_type": "code",
   "execution_count": 62,
   "outputs": [],
   "source": [
    "# Opgave:\n",
    "# Skab denne liste med comprehension: [0, 1, 2, 3, 40, 41, 42, 43, 44, 45]\n",
    "# Brug \"if\" i din løsning!\n",
    "# Skriv din kode her"
   ],
   "metadata": {
    "collapsed": false,
    "ExecuteTime": {
     "end_time": "2023-10-25T12:43:35.137597200Z",
     "start_time": "2023-10-25T12:43:34.879160900Z"
    }
   }
  },
  {
   "cell_type": "code",
   "execution_count": 63,
   "outputs": [],
   "source": [
    "# Opgave:\n",
    "# Skab denne dictionary med comprehension: {3: 33, 4: 44, 5: 55, 6: 66}\n",
    "# Skriv din kode her"
   ],
   "metadata": {
    "collapsed": false,
    "ExecuteTime": {
     "end_time": "2023-10-25T12:43:35.152547Z",
     "start_time": "2023-10-25T12:43:34.896104200Z"
    }
   }
  },
  {
   "cell_type": "markdown",
   "metadata": {},
   "source": [
    "### Magic Methods (Dunder Methods)"
   ]
  },
  {
   "cell_type": "markdown",
   "metadata": {},
   "source": [
    "Magiske metoder i Python er de specielle metoder, der starter og slutter med dobbelt understregning.    \n",
    "De er ikke beregnet til at blive kaldt direkte af dig, men påkaldet sker internt fra klassen ved en bestemt handling.   \n",
    "Du kan med fordel selv tilpasse dem.\n",
    "\n",
    "Find ud af hvad magic methods er og får en overblik om hvilke findes:   \n",
    "- [God forklaring](https://www.tutorialsteacher.com/python/magic-methods-in-python)   \n",
    "- Alternativt kan du se denne [video](https://www.youtube.com/watch?v=KSiRzuSx120)\n",
    "- eller denne [video](https://www.youtube.com/watch?v=3ohzBxoFHAY)\n",
    "\n",
    "Brug højst en time på at læse forklaringen."
   ]
  },
  {
   "cell_type": "code",
   "execution_count": 64,
   "outputs": [],
   "source": [
    "# Opgave:\n",
    "# Tilføj en magisk funktion til klassen Dog så \"huge_dog > tiny_dog\" interpreteres på en fornuftig måde.\n",
    "\n",
    "class Dog:\n",
    "    def __init__(self, size):\n",
    "        self.size = size\n",
    "        \n",
    "huge_dog = Dog(80)\n",
    "tiny_dog = Dog(25)\n",
    "\n",
    "# Uncomment this in order to test your solution!\n",
    "# if huge_dog > tiny_dog:\n",
    "#     print(\"You solved the exercise :)\")"
   ],
   "metadata": {
    "collapsed": false,
    "ExecuteTime": {
     "end_time": "2023-10-25T12:43:35.154540400Z",
     "start_time": "2023-10-25T12:43:34.910692600Z"
    }
   }
  },
  {
   "cell_type": "markdown",
   "metadata": {},
   "source": [
    "### Unpacking"
   ]
  },
  {
   "cell_type": "markdown",
   "metadata": {},
   "source": [
    "Super vigtig blandt andet for parameter unpacking (*args, **kwargs)      \n",
    "     \n",
    "- [God forklaring for parameter unpacking](https://realpython.com/python-kwargs-and-args/)    \n",
    "- [God forklaring for alle måder man kan bruge unpacking på](https://treyhunner.com/2018/10/asterisks-in-python-what-they-are-and-how-to-use-them/)\n",
    "- [Video med kort forklaring](https://www.youtube.com/watch?v=9LrtOJTnwJE)\n",
    "\n",
    "Brug højst en time på at læse forklaringerne."
   ]
  },
  {
   "cell_type": "code",
   "execution_count": 65,
   "metadata": {
    "ExecuteTime": {
     "end_time": "2023-10-25T12:43:35.168493200Z",
     "start_time": "2023-10-25T12:43:34.925642400Z"
    }
   },
   "outputs": [
    {
     "name": "stdout",
     "output_type": "stream",
     "text": [
      "a=1 b=[2, 3, 4, 5] c=6 d=7 e=8\n",
      "<class 'list'>\n"
     ]
    }
   ],
   "source": [
    "# Eksempel:\n",
    "# Kør programmet og leg med koden\n",
    "a, *b, c, d, e = (1, 2, 3, 4, 5, 6, 7, 8)  # *-Operator for unpacking (works for tuples and lists)\n",
    "print(f'{a=} {b=} {c=} {d=} {e=}')\n",
    "print(type(b))"
   ]
  },
  {
   "cell_type": "code",
   "execution_count": 66,
   "outputs": [
    {
     "data": {
      "text/plain": "(1, 2, 3, 4, 5, 6, 7, 8)"
     },
     "execution_count": 66,
     "metadata": {},
     "output_type": "execute_result"
    }
   ],
   "source": [
    "# Opgave:\n",
    "# Ændr programmet, så variablen result kun indeholder værdierne 4, 5, 6.\n",
    "def some_function():\n",
    "    return 1, 2, 3, 4, 5, 6, 7, 8\n",
    "\n",
    "result = some_function()  # change this line\n",
    "result"
   ],
   "metadata": {
    "collapsed": false,
    "ExecuteTime": {
     "end_time": "2023-10-25T12:43:35.173477Z",
     "start_time": "2023-10-25T12:43:34.942250200Z"
    }
   }
  },
  {
   "cell_type": "markdown",
   "metadata": {},
   "source": [
    "### Tuple Declaration, Strings and Tuples as Iterators "
   ]
  },
  {
   "cell_type": "markdown",
   "source": [
    "Hvis du ikke husker hvad en tuple er, så genopfrisk din viden [her](https://www.w3schools.com/python/python_tuples.asp) eller se denne [video](https://youtu.be/w6hL_dszMxk?si=6BMzXLm5T5iNon_c&t=167).\n",
    "\n",
    "Brug højst en halv time på at læse forklaringen."
   ],
   "metadata": {
    "collapsed": false
   }
  },
  {
   "cell_type": "code",
   "execution_count": 7,
   "metadata": {
    "ExecuteTime": {
     "end_time": "2023-10-26T12:20:24.324316200Z",
     "start_time": "2023-10-26T12:20:24.288233100Z"
    }
   },
   "outputs": [
    {
     "name": "stdout",
     "output_type": "stream",
     "text": [
      "a_string='abc'     type(a_string)=<class 'str'>\n",
      "a_tuple=('abc',)     type(a_tuple)=<class 'tuple'>\n",
      "also_a_string='abc'     type(also_a_string)=<class 'str'>\n",
      "\n",
      "String a\n",
      "String b\n",
      "String c\n",
      "Tuple abc\n"
     ]
    }
   ],
   "source": [
    "# Eksempel:\n",
    "# Kør programmet og leg med koden\n",
    "a_string = \"abc\"   # string\n",
    "print(f\"{a_string=}     {type(a_string)=}\")\n",
    "a_tuple = (\"abc\",)   # tuple  (kommaet er afgørende!)\n",
    "print(f\"{a_tuple=}     {type(a_tuple)=}\")\n",
    "also_a_string = (\"abc\")   # tuple  (kommaet er afgørende!)\n",
    "print(f\"{also_a_string=}     {type(also_a_string)=}\")\n",
    "print()\n",
    "\n",
    "for s in eksempel_string:\n",
    "    print(\"String\", s)\n",
    "for t in eksempel_tuple:\n",
    "    print(\"Tuple\", t)"
   ]
  },
  {
   "cell_type": "code",
   "execution_count": 68,
   "outputs": [],
   "source": [
    "# Opgave:\n",
    "# Bare leg med ovenstående eksempelet"
   ],
   "metadata": {
    "collapsed": false,
    "ExecuteTime": {
     "end_time": "2023-10-25T12:43:35.191416600Z",
     "start_time": "2023-10-25T12:43:34.973147300Z"
    }
   }
  },
  {
   "cell_type": "markdown",
   "metadata": {},
   "source": [
    "### For Loop with 2 or more Iterators, Zip"
   ]
  },
  {
   "cell_type": "markdown",
   "metadata": {},
   "source": [
    "- [Kort forklaring](https://www.w3schools.com/python/ref_func_zip.asp)   \n",
    "- [Video med kort forklaring](https://www.youtube.com/watch?v=ALWe-tbrzQU)\n",
    "- [Video med en lidt mere teknisk og detaljeret forklaring](https://www.youtube.com/watch?v=Kn6GRtiY4eM)\n",
    "- [Komplet forklaring](https://realpython.com/python-zip-function/)\n",
    "\n",
    "Brug højst en time på at læse forklaringerne."
   ]
  },
  {
   "cell_type": "code",
   "execution_count": 69,
   "outputs": [
    {
     "name": "stdout",
     "output_type": "stream",
     "text": [
      "zipped=<zip object at 0x0000021F2DA1B440>\n",
      "type(zipped)=<class 'zip'>\n",
      "item=('Klaus', 18)   type(item)=<class 'tuple'>\n",
      "item=('Dorte', 20)   type(item)=<class 'tuple'>\n",
      "item=('Hans', 15)   type(item)=<class 'tuple'>\n"
     ]
    }
   ],
   "source": [
    "# Eksempel:\n",
    "# Kør programmet og leg med koden\n",
    "names = [\"Klaus\", \"Dorte\", \"Hans\"]\n",
    "ages= [18, 20, 15]\n",
    "zipped = zip(names, ages)\n",
    "print(f\"{zipped=}\")\n",
    "print(f\"{type(zipped)=}\")\n",
    "for item in zipped:\n",
    "    print(f\"{item=}   {type(item)=}\")"
   ],
   "metadata": {
    "collapsed": false,
    "ExecuteTime": {
     "end_time": "2023-10-25T12:43:35.192413500Z",
     "start_time": "2023-10-25T12:43:34.990090900Z"
    }
   }
  },
  {
   "cell_type": "code",
   "execution_count": 70,
   "metadata": {
    "ExecuteTime": {
     "end_time": "2023-10-25T12:43:35.193410400Z",
     "start_time": "2023-10-25T12:43:35.006037200Z"
    }
   },
   "outputs": [
    {
     "name": "stdout",
     "output_type": "stream",
     "text": [
      "4 a One           5 b Two           6 c Three           "
     ]
    }
   ],
   "source": [
    "# Eksempel:\n",
    "# Kør programmet og leg med koden\n",
    "for i, j, k in zip(range(4,23), \"abc\", [\"One\", \"Two\", \"Three\", \"Four\"]):\n",
    "    print(i, j, k, end=\"           \")"
   ]
  },
  {
   "cell_type": "code",
   "execution_count": 71,
   "outputs": [],
   "source": [
    "# Opgave:\n",
    "# Tilføj en for løkke med 2 iteratorer, som udprinter \"a 10   b 12   c 23   d 41\"\n",
    "letters = [\"a\", \"b\", \"c\", \"d\"]\n",
    "numbers = [10, 12, 23, 41, 56, 58]\n"
   ],
   "metadata": {
    "collapsed": false,
    "ExecuteTime": {
     "end_time": "2023-10-25T12:43:35.193410400Z",
     "start_time": "2023-10-25T12:43:35.020987100Z"
    }
   }
  },
  {
   "cell_type": "markdown",
   "metadata": {},
   "source": [
    "###  Lambda Functions (Example: sort class objects)"
   ]
  },
  {
   "cell_type": "markdown",
   "metadata": {},
   "source": [
    "Praktisk når du skal definere en meget kort funktion, som du bruger bare en gang.   \n",
    "Så kan du gør det indenfor den kodelinje, hvor du bruger funktionen.\n",
    "\n",
    "Kan benyttes hvis der forventes et funktionsobjekt (dvs. kun funktionsnavnet uden parenteser og uden parametre)    \n",
    "på et sted i programkoden, men man ønsker også at overføre funktionsparametre sammen med funktionsobjektet.    \n",
    "Eksempel: command-parameter af en tkinter-button.\n",
    "\n",
    "- [Kort forklaring](https://www.w3schools.com/python/python_lambda.asp)   \n",
    "- [Video med forklaring](https://www.youtube.com/watch?v=25ovCm9jKfA) \n",
    "- [Komplet forklaring](https://realpython.com/python-lambda/)\n",
    "\n",
    "Brug højst en time på at læse forklaringerne."
   ]
  },
  {
   "cell_type": "code",
   "execution_count": 72,
   "metadata": {
    "ExecuteTime": {
     "end_time": "2023-10-25T12:43:35.193410400Z",
     "start_time": "2023-10-25T12:43:35.038927600Z"
    }
   },
   "outputs": [
    {
     "name": "stdout",
     "output_type": "stream",
     "text": [
      "before [self.a=999 self.b=3, self.a=777 self.b=5]\n",
      "after  [self.a=777 self.b=5, self.a=999 self.b=3]\n"
     ]
    }
   ],
   "source": [
    "# Eksempel:\n",
    "# Kør programmet og leg med koden\n",
    "class Dummy:\n",
    "    \n",
    "    def __init__(self, a_, b_):\n",
    "        self.a = a_\n",
    "        self.b = b_\n",
    "        \n",
    "    def __repr__(self):\n",
    "        return f\"{self.a=} {self.b=}\"\n",
    "        \n",
    "dummy1 = Dummy(999, 3)\n",
    "dummy2 = Dummy(777, 5)\n",
    "dummies = [dummy1, dummy2]\n",
    "print(\"before\", dummies)\n",
    "dummies.sort(key=lambda x: x.a, reverse=False)\n",
    "print(\"after \", dummies)"
   ]
  },
  {
   "cell_type": "code",
   "execution_count": 73,
   "outputs": [
    {
     "data": {
      "text/plain": "15"
     },
     "execution_count": 73,
     "metadata": {},
     "output_type": "execute_result"
    }
   ],
   "source": [
    "# Opgave:\n",
    "# Forklar hvad der sker i den følgende kodelinje.\n",
    "(lambda x: x * 3)(5)"
   ],
   "metadata": {
    "collapsed": false,
    "ExecuteTime": {
     "end_time": "2023-10-25T12:43:35.204373300Z",
     "start_time": "2023-10-25T12:43:35.053876800Z"
    }
   }
  },
  {
   "cell_type": "markdown",
   "metadata": {},
   "source": [
    "### Import (avanceret)"
   ]
  },
  {
   "cell_type": "markdown",
   "metadata": {},
   "source": [
    "[Video med introduktion til import](https://www.youtube.com/watch?v=XcfxkHrHTVE)\n",
    "[Python import: Advanced Techniques and Tips](https://realpython.com/python-import/)\n",
    "\n",
    "Få et overblik over, hvad du kan gøre med import.\n",
    "\n",
    "Find ud af, hvad forskellen er mellem et modul (module) og en pakke (package).\n",
    "\n",
    "Brug højst en time på at læse forklaringerne."
   ]
  },
  {
   "cell_type": "markdown",
   "metadata": {},
   "source": [
    "### Inline If (Ternary Operator)"
   ]
  },
  {
   "cell_type": "markdown",
   "metadata": {},
   "source": [
    "Tester en betingelse i en enkelt linje, hvilket gør koden mere kompakt.  \n",
    "Meget praktisk i kombination med (list) comprehension.\n",
    "     \n",
    "- [Forklaring](https://www.geeksforgeeks.org/ternary-operator-in-python/)\n",
    "\n",
    "Brug højst en time på at læse forklaringen."
   ]
  },
  {
   "cell_type": "code",
   "execution_count": 74,
   "metadata": {
    "ExecuteTime": {
     "end_time": "2023-10-25T12:43:35.204373300Z",
     "start_time": "2023-10-25T12:43:35.069824400Z"
    }
   },
   "outputs": [
    {
     "data": {
      "text/plain": "'b'"
     },
     "execution_count": 74,
     "metadata": {},
     "output_type": "execute_result"
    }
   ],
   "source": [
    "# Eksempel:\n",
    "# Kør programmet og leg med koden\n",
    "q = \"a\" if 3 > 8 else \"b\"\n",
    "q"
   ]
  },
  {
   "cell_type": "code",
   "execution_count": 75,
   "outputs": [
    {
     "data": {
      "text/plain": "[0, 1, 2, 3, 4, 5, 36, 49, 64, 81]"
     },
     "execution_count": 75,
     "metadata": {},
     "output_type": "execute_result"
    }
   ],
   "source": [
    "# Eksempel:\n",
    "# Kør programmet og leg med koden\n",
    "list_comprehension_with_1_if = [i * i if i > 5 else i for i in range(10)]\n",
    "list_comprehension_with_1_if"
   ],
   "metadata": {
    "collapsed": false,
    "ExecuteTime": {
     "end_time": "2023-10-25T12:43:35.205370500Z",
     "start_time": "2023-10-25T12:43:35.085770200Z"
    }
   }
  },
  {
   "cell_type": "code",
   "execution_count": 76,
   "metadata": {
    "ExecuteTime": {
     "end_time": "2023-10-25T12:43:35.206366900Z",
     "start_time": "2023-10-25T12:43:35.102713400Z"
    }
   },
   "outputs": [
    {
     "data": {
      "text/plain": "[0, 2, 4, 36, 64]"
     },
     "execution_count": 76,
     "metadata": {},
     "output_type": "execute_result"
    }
   ],
   "source": [
    "# Eksempel:\n",
    "# Kør programmet og leg med koden\n",
    "list_comprehension_with_2_if = [i * i if i > 5 else i for i in range(10) if i%2 == 0]\n",
    "list_comprehension_with_2_if"
   ]
  },
  {
   "cell_type": "code",
   "execution_count": 77,
   "outputs": [
    {
     "data": {
      "text/plain": "[0, 3, 6, 9, 12, 15, 18, 21, 24, 27, 30, 33, 36, 39, 42, 45]"
     },
     "execution_count": 77,
     "metadata": {},
     "output_type": "execute_result"
    }
   ],
   "source": [
    "# Opgave:\n",
    "# Ændr den følgende kode. Brug en inline if.\n",
    "# Programmets output skal være: [0, 3, 14, 9, 28, 15, 42, 21, 56, 27, 70, 33, 84, 39, 98, 45]\n",
    "\n",
    "example_list = [i * 3 for i in range(16)]\n",
    "example_list"
   ],
   "metadata": {
    "collapsed": false,
    "ExecuteTime": {
     "end_time": "2023-10-25T12:43:35.349888200Z",
     "start_time": "2023-10-25T12:43:35.117663200Z"
    }
   }
  },
  {
   "cell_type": "markdown",
   "metadata": {},
   "source": [
    "## 2. Avancerede koncepter for avancerede programmører"
   ]
  },
  {
   "cell_type": "markdown",
   "metadata": {},
   "source": [
    "### Generators"
   ]
  },
  {
   "cell_type": "markdown",
   "metadata": {},
   "source": [
    "En generatorfunktion er en særlig type funktion, der returnerer en doven iterator.    \n",
    "En iterator er et objekt, som du kan gennemløbe i en løkke, fx en liste.    \n",
    "En doven iterator gemmer kun sit senest genererede element i hukommelsen.     \n",
    "Det kan være meget nyttig, når man har mange elementer eller når elementerne er store.\n",
    "\n",
    "- [Super god video med forklaringer](https://www.youtube.com/watch?v=tmeKsb2Fras) (Forklaringerne er dog hurtigt og på et meget højt niveau. Brug dine pause og spol tilbage knapper meget!)     \n",
    "Dette gælder også for alle andre videoer fra denne fantastiske YouTube-kanal.\n",
    "- De første 6 minutter af denne [video](https://www.youtube.com/watch?v=bD05uGo_sVI) indeholder en langsommere forklaring.\n",
    "- [Udførlig forklaring](https://realpython.com/introduction-to-python-generators/)\n",
    "\n",
    "Brug højst to timer på at læse/se forklaringerne."
   ]
  },
  {
   "cell_type": "code",
   "execution_count": 78,
   "metadata": {
    "ExecuteTime": {
     "end_time": "2023-10-25T12:43:35.351879300Z",
     "start_time": "2023-10-25T12:43:35.132613500Z"
    }
   },
   "outputs": [
    {
     "name": "stdout",
     "output_type": "stream",
     "text": [
      "0\n",
      "1\n",
      "in a for loop 2\n",
      "in a for loop 3\n",
      "in a for loop 4\n"
     ]
    }
   ],
   "source": [
    "# Eksempel:\n",
    "# Kør programmet og leg med koden\n",
    "def infinite_sequence():\n",
    "    num = 0\n",
    "    while True:\n",
    "        yield num\n",
    "        num += 1\n",
    "        \n",
    "gen = infinite_sequence()\n",
    "print(next(gen))\n",
    "print(next(gen))\n",
    "for some_iterator in [3, 12, 4]:\n",
    "    print(\"in a for loop\", next(gen))"
   ]
  },
  {
   "cell_type": "markdown",
   "metadata": {},
   "source": [
    "### Asynchronous programming"
   ]
  },
  {
   "cell_type": "markdown",
   "metadata": {},
   "source": [
    "Asynkron programmering betyder, at man foretager anmodninger (requests) og ikke blokerer for at vente på, at de er færdige.    \n",
    "    \n",
    "- [Video med god introduktion til biblioteket asyncio](https://www.youtube.com/watch?v=ftmdDlwMwwQ) (Forklaringerne er meget gode men super hurtigt. Brug dine pause og spol tilbage knapper meget!)   \n",
    "- [God forklaring](https://superfastpython.com/python-asynchronous-programming/)    \n",
    "- [Udførlig forklaring](https://realpython.com/async-io-python/)\n",
    "\n",
    "Brug højst to timer på at læse/se forklaringerne.\n"
   ]
  },
  {
   "cell_type": "markdown",
   "metadata": {},
   "source": [
    "### Multiprocessing"
   ]
  },
  {
   "cell_type": "markdown",
   "metadata": {},
   "source": [
    "Multiprocessing giver mulighed for at udnytte flere processorer på en given maskine      \n",
    "fuldt ud ved at omgå den \"Global Interpreter Lock\".   \n",
    "\n",
    "- [Video med introduction to multiprocessing](https://www.youtube.com/watch?v=X7vBbelRXn0&t=356s) (Forklaringerne er meget gode men super hurtigt. Brug dine pause og spol tilbage knapper meget!)   \n",
    "- [Video om threading vs multiprocessing i python](https://www.youtube.com/watch?v=AZnGRKFUU0c)    \n",
    "- [God og komplet forklaring](https://superfastpython.com/multiprocessing-in-python/)    \n",
    "- [Officiel dokumentation](https://docs.python.org/3/library/multiprocessing.html)\n",
    "\n",
    "Brug højst to timer på at læse/se forklaringerne."
   ]
  },
  {
   "cell_type": "markdown",
   "metadata": {},
   "source": [
    "## 3. Tips & Tricks"
   ]
  },
  {
   "cell_type": "markdown",
   "source": [
    "### Working Directory\n",
    "\n",
    "Bare kør prgrammet og se hvad der sker."
   ],
   "metadata": {
    "collapsed": false
   }
  },
  {
   "cell_type": "code",
   "execution_count": 79,
   "outputs": [
    {
     "data": {
      "text/plain": "'C:\\\\Users\\\\ulsc\\\\OneDrive - AspIT\\\\Uli\\\\Python\\\\AspIT_Python\\\\60_experts'"
     },
     "execution_count": 79,
     "metadata": {},
     "output_type": "execute_result"
    }
   ],
   "source": [
    "# Eksempel:\n",
    "# Kør programmet og leg med koden\n",
    "import os\n",
    "current_dir = os.getcwd()  # What is the program's current directory?\n",
    "current_dir"
   ],
   "metadata": {
    "collapsed": false,
    "ExecuteTime": {
     "end_time": "2023-10-25T12:43:35.353872500Z",
     "start_time": "2023-10-25T12:43:35.148559900Z"
    }
   }
  },
  {
   "cell_type": "markdown",
   "source": [
    "### Display image\n",
    "\n",
    "Bare kør prgrammet og se hvad der sker."
   ],
   "metadata": {
    "collapsed": false
   }
  },
  {
   "cell_type": "code",
   "execution_count": 80,
   "outputs": [
    {
     "data": {
      "image/png": "[encoded data removed]",
      "text/plain": "<IPython.core.display.Image object>"
     },
     "execution_count": 80,
     "metadata": {},
     "output_type": "execute_result"
    }
   ],
   "source": [
    "# Eksempel:\n",
    "# Kør programmet og leg med koden\n",
    "from IPython.display import Image\n",
    "Image(filename=\"../10_gui/images/gui_2010.png\")"
   ],
   "metadata": {
    "collapsed": false,
    "ExecuteTime": {
     "end_time": "2023-10-25T12:43:35.375799400Z",
     "start_time": "2023-10-25T12:43:35.164506500Z"
    }
   }
  },
  {
   "cell_type": "markdown",
   "metadata": {},
   "source": [
    "### Time"
   ]
  },
  {
   "cell_type": "markdown",
   "metadata": {},
   "source": [
    "En eksempel hvordan man kan arbejde med tid i python.     \n",
    "    \n",
    "- [Kort forklaring](https://www.w3schools.com/python/python_datetime.asp)   \n",
    "- [Officiel dokumentation](https://docs.python.org/3/library/datetime.html)  \n",
    "\n",
    "Brug højst en time på at læse forklaringerne. "
   ]
  },
  {
   "cell_type": "code",
   "execution_count": 81,
   "metadata": {
    "ExecuteTime": {
     "end_time": "2023-10-25T12:43:35.394736Z",
     "start_time": "2023-10-25T12:43:35.181449900Z"
    }
   },
   "outputs": [
    {
     "name": "stdout",
     "output_type": "stream",
     "text": [
      "seconds since 01.01.1970:  1698237815.1804533\n",
      "transform into readable format:  2023-10-25 14:43:35.180453\n"
     ]
    }
   ],
   "source": [
    "# Eksempel:\n",
    "# Kør programmet og leg med koden\n",
    "import time\n",
    "from datetime import datetime\n",
    "\n",
    "def time_stub():\n",
    "    now = time.time()\n",
    "    print(\"seconds since 01.01.1970: \", now)\n",
    "    readable = datetime.fromtimestamp(now, tz=None)\n",
    "    print(\"transform into readable format: \", readable)\n",
    "    \n",
    "time_stub()"
   ]
  },
  {
   "cell_type": "markdown",
   "metadata": {},
   "source": [
    "### Profiling (performance optimization, runtime analysis)"
   ]
  },
  {
   "cell_type": "markdown",
   "metadata": {},
   "source": [
    "- [Kort forklaring](https://www.machinelearningplus.com/python/cprofile-how-to-profile-your-python-code/)   \n",
    "- [Officiel dokumentation](https://docs.python.org/3/library/profile.html)\n",
    "\n",
    "Brug højst en halv time på at læse forklaringerne.\n",
    "Find ud af hvad den følgende programmets output betyder."
   ]
  },
  {
   "cell_type": "code",
   "execution_count": 82,
   "metadata": {
    "ExecuteTime": {
     "end_time": "2023-10-25T12:43:35.423638900Z",
     "start_time": "2023-10-25T12:43:35.196400400Z"
    }
   },
   "outputs": [
    {
     "name": "stdout",
     "output_type": "stream",
     "text": [
      "         200003 function calls in 0.150 seconds\n",
      "\n",
      "   Ordered by: internal time\n",
      "\n",
      "   ncalls  tottime  percall  cumtime  percall filename:lineno(function)\n",
      "        1    0.121    0.121    0.121    0.121 C:\\Users\\ulsc\\AppData\\Local\\Temp\\ipykernel_9988\\1146472358.py:8(test_np)\n",
      "        1    0.015    0.015    0.029    0.029 C:\\Users\\ulsc\\AppData\\Local\\Temp\\ipykernel_9988\\1146472358.py:12(test_math)\n",
      "    99999    0.007    0.000    0.007    0.000 {built-in method math.sin}\n",
      "    99999    0.006    0.000    0.006    0.000 {built-in method math.sqrt}\n",
      "        1    0.000    0.000    0.000    0.000 C:\\Program Files\\Python310\\lib\\cProfile.py:117(__exit__)\n",
      "        1    0.000    0.000    0.150    0.150 C:\\Users\\ulsc\\AppData\\Local\\Temp\\ipykernel_9988\\1146472358.py:16(test)\n",
      "        1    0.000    0.000    0.000    0.000 {method 'disable' of '_lsprof.Profiler' objects}\n"
     ]
    },
    {
     "data": {
      "text/plain": "<pstats.Stats at 0x21f2cf21cf0>"
     },
     "execution_count": 82,
     "metadata": {},
     "output_type": "execute_result"
    }
   ],
   "source": [
    "# Eksempel:\n",
    "# Kør programmet og leg med koden\n",
    "import cProfile\n",
    "import pstats\n",
    "import math\n",
    "import numpy as np\n",
    "\n",
    "def test_np():\n",
    "    for i in range(88888):\n",
    "        _ = np.sqrt(i)*np.sin(i)  # naming a variable _ indicates this variable will not be used further on\n",
    "        \n",
    "def test_math():\n",
    "    for i in range(99999):\n",
    "        _ = math.sqrt(i)*math.sin(i)\n",
    "\n",
    "def test():\n",
    "    test_np()\n",
    "    test_math()\n",
    "\n",
    "\n",
    "with cProfile.Profile() as pr:\n",
    "    test()\n",
    "stats = pstats.Stats(pr)\n",
    "stats.sort_stats(pstats.SortKey.TIME)\n",
    "stats.print_stats()\n",
    "# stats.dump_stats(filename='needs_profiling.prof')"
   ]
  },
  {
   "cell_type": "markdown",
   "metadata": {
    "tags": []
   },
   "source": [
    "###  JSON"
   ]
  },
  {
   "cell_type": "markdown",
   "metadata": {
    "tags": []
   },
   "source": [
    "Hvordan læser og redigerer man JSON-filer?   \n",
    "    \n",
    "- [Kort forklaring](https://www.w3schools.com/python/python_json.asp)   \n",
    "- [God forklaring](https://realpython.com/python-json/)   \n",
    "- [Officiel dokumentation](https://docs.python.org/3/library/json.html)\n",
    "\n",
    "Brug højst 1,5 timer på at læse forklaringerne.\n",
    "Find ud af hvordan det følgende program fungerer."
   ]
  },
  {
   "cell_type": "code",
   "execution_count": 83,
   "metadata": {
    "ExecuteTime": {
     "end_time": "2023-10-25T12:43:35.522018200Z",
     "start_time": "2023-10-25T12:43:35.370815700Z"
    }
   },
   "outputs": [
    {
     "name": "stdout",
     "output_type": "stream",
     "text": [
      "{'id': 1, 'name': 'Leanne Graham', 'username': 'Bret', 'email': 'Sincere@april.biz', 'address': {'street': 'Kulas Light', 'suite': 'Apt. 556', 'city': 'Gwenborough', 'zipcode': '92998-3874', 'geo': {'lat': '-37.3159', 'lng': '81.1496'}}, 'phone': '1-770-736-8031 x56442', 'website': 'hildegard.org', 'company': {'name': 'Romaguera-Crona', 'catchPhrase': 'Multi-layered client-server neural-net', 'bs': 'harness real-time e-markets'}}\n"
     ]
    }
   ],
   "source": [
    "# Eksempel:\n",
    "# Kør programmet og leg med koden\n",
    "import json\n",
    "import requests\n",
    "\n",
    "read_from_file = False\n",
    "def json_stub():\n",
    "    if read_from_file:\n",
    "        with open(\"insert_filename_here.json\", 'r') as f:\n",
    "            dic = json.loads(f.read())  # invoke json.loads() on the contents of the file, as opposed to the file path of that JSON\n",
    "        print(dic)\n",
    "    else:  # read from web\n",
    "        r = requests.get('https://jsonplaceholder.typicode.com/users')\n",
    "        print(r.json()[0])\n",
    "\n",
    "json_stub()"
   ]
  },
  {
   "cell_type": "markdown",
   "metadata": {},
   "source": [
    "### Colored text"
   ]
  },
  {
   "cell_type": "markdown",
   "metadata": {},
   "source": [
    "- [Forskellige måder at printe farvet tekst på](https://www.geeksforgeeks.org/print-colors-python-terminal/)\n",
    "\n",
    "Brug højst en halv time på at læse forklaringen.\n",
    "Find ud af hvordan det følgende program fungerer."
   ]
  },
  {
   "cell_type": "code",
   "execution_count": 84,
   "metadata": {
    "ExecuteTime": {
     "end_time": "2023-10-25T12:43:35.523015200Z",
     "start_time": "2023-10-25T12:43:35.495108200Z"
    }
   },
   "outputs": [
    {
     "name": "stdout",
     "output_type": "stream",
     "text": [
      "\u001B[30mHello\u001B[0m world \u001B[31mHello\u001B[0m world \u001B[32mHello\u001B[0m world \u001B[33mHello\u001B[0m world \u001B[34mHello\u001B[0m world \u001B[35mHello\u001B[0m world \u001B[36mHello\u001B[0m world \u001B[31;1mHello\u001B[0m world \u001B[32;1mHello\u001B[0m world \u001B[33;1mHello\u001B[0m world \u001B[34;1mHello\u001B[0m world \u001B[35;1mHello\u001B[0m world \u001B[36;1mHello\u001B[0m world \u001B[37;1mHello\u001B[0m world "
     ]
    }
   ],
   "source": [
    "# Eksempel:\n",
    "# Kør programmet og leg med koden\n",
    "Black, Red, Green, Yellow, Blue, Magenta, Cyan = \"\\u001b[30m\", \"\\u001b[31m\", \"\\u001b[32m\", \"\\u001b[33m\", \"\\u001b[34m\", \"\\u001b[35m\", \"\\u001b[36m\"\n",
    "BrightRed, BrightGreen, BrightYellow, BrightBlue, BrightMagenta, BrightCyan, BrightWhite = \"\\u001b[31;1m\", \"\\u001b[32;1m\", \"\\u001b[33;1m\", \"\\u001b[34;1m\", \"\\u001b[35;1m\", \"\\u001b[36;1m\", \"\\u001b[37;1m\"\n",
    "Reset = \"\\u001b[0m\"\n",
    "colors = [Black, Red, Green, Yellow, Blue, Magenta, Cyan, BrightRed, BrightGreen, BrightYellow, BrightBlue, BrightMagenta, BrightCyan, BrightWhite]\n",
    "for color in colors:\n",
    "    print(color + \"Hello\" + Reset +\" world\", end=\" \")\n"
   ]
  },
  {
   "cell_type": "code",
   "execution_count": 84,
   "metadata": {
    "ExecuteTime": {
     "end_time": "2023-10-25T12:43:35.526005600Z",
     "start_time": "2023-10-25T12:43:35.508064400Z"
    }
   },
   "outputs": [],
   "source": []
  }
 ],
 "metadata": {
  "kernelspec": {
   "display_name": "Python 3 (ipykernel)",
   "language": "python",
   "name": "python3"
  },
  "language_info": {
   "codemirror_mode": {
    "name": "ipython",
    "version": 3
   },
   "file_extension": ".py",
   "mimetype": "text/x-python",
   "name": "python",
   "nbconvert_exporter": "python",
   "pygments_lexer": "ipython3",
   "version": "3.10.7"
  },
  "toc-autonumbering": false,
  "toc-showcode": false,
  "toc-showmarkdowntxt": false,
  "toc-showtags": false
 },
 "nbformat": 4,
 "nbformat_minor": 4
}
